{
 "cells": [
  {
   "cell_type": "markdown",
   "metadata": {},
   "source": [
    "# Amazon SageMaker Studio Demo Package"
   ]
  },
  {
   "cell_type": "markdown",
   "metadata": {},
   "source": [
    "## **Contents**\n",
    "1. [Preparation](#Preparation)\n",
    "1. [Feature examples](#Feature-examples)\n",
    "1. [Advanced examples](#Advanced-examples)"
   ]
  },
  {
   "cell_type": "markdown",
   "metadata": {},
   "source": [
    "## Preparation\n",
    "\n",
    "Download example source code"
   ]
  },
  {
   "cell_type": "code",
   "execution_count": 1,
   "metadata": {},
   "outputs": [
    {
     "name": "stderr",
     "output_type": "stream",
     "text": [
      "Cloning into 'amazon-sagemaker-examples.git'...\n"
     ]
    }
   ],
   "source": [
    "%%bash -s \"amazon-sagemaker-examples.git\"\n",
    "\n",
    "rm -rf \"$1\"\n",
    "git clone \"https://github.com/aws/$1\" \"$1\"\n"
   ]
  },
  {
   "cell_type": "markdown",
   "metadata": {},
   "source": [
    "## Feature examples\n",
    "* Amazon SageMaker JumpStart\n",
    "* [Amazon SageMaker Data Wrangler](data-wrangler/data_wrangler_demo.ipynb)\n",
    "* [Amazon SageMaker Feature Store](amazon-sagemaker-examples.git/sagemaker-featurestore/sagemaker_featurestore_fraud_detection_python_sdk.ipynb)\n",
    "* [Amazon SageMaker Pipeline](amazon-sagemaker-examples.git/sagemaker-pipelines/sagemaker-pipelines-preprocess-train-evaluate-batch-transform.ipynb)\n"
   ]
  },
  {
   "cell_type": "markdown",
   "metadata": {},
   "source": [
    "## Advanced axamples\n",
    "* [MLOps: Amazon SageMaker Pipeline driving RecSys lifecycle](mlops/gluon_recommender_system.ipynb)\n",
    "* [MLOps: Amazon SageMaker Pipeline driving Personalize lifecycle](ai-service-pipeline/personalize.ipynb)\n",
    "* [Amazon SageMaker Lineage](amazon-sagemaker-examples.git/sagemaker-lineage/sagemaker-lineage.ipynb)\n",
    "* [Amazon SageMaker Clarify]()\n"
   ]
  },
  {
   "cell_type": "code",
   "execution_count": null,
   "metadata": {},
   "outputs": [],
   "source": []
  }
 ],
 "metadata": {
  "kernelspec": {
   "display_name": "conda_python3",
   "language": "python",
   "name": "conda_python3"
  },
  "language_info": {
   "codemirror_mode": {
    "name": "ipython",
    "version": 3
   },
   "file_extension": ".py",
   "mimetype": "text/x-python",
   "name": "python",
   "nbconvert_exporter": "python",
   "pygments_lexer": "ipython3",
   "version": "3.6.10"
  }
 },
 "nbformat": 4,
 "nbformat_minor": 4
}
