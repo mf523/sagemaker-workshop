{
 "cells": [
  {
   "cell_type": "markdown",
   "metadata": {},
   "source": [
    "# Amazon SageMaker Studio Demo Package"
   ]
  },
  {
   "cell_type": "markdown",
   "metadata": {},
   "source": [
    "## **Contents**\n",
    "1. [Preparation](#Preparation)\n",
    "1. [Feature examples](#Feature-examples)\n",
    "1. [Advanced examples](#Advanced-examples)"
   ]
  },
  {
   "cell_type": "markdown",
   "metadata": {},
   "source": [
    "## Preparation\n",
    "\n",
    "Download example source code"
   ]
  },
  {
   "cell_type": "code",
   "execution_count": 1,
   "metadata": {},
   "outputs": [
    {
     "name": "stderr",
     "output_type": "stream",
     "text": [
      "Cloning into 'amazon-sagemaker-examples.git'...\n",
      "Checking out files: 100% (1841/1841), done.\n"
     ]
    }
   ],
   "source": [
    "%%bash -s \"amazon-sagemaker-examples.git\"\n",
    "\n",
    "rm -rf \"$1\"\n",
    "git clone \"https://github.com/aws/$1\" \"$1\"\n"
   ]
  },
  {
   "cell_type": "markdown",
   "metadata": {},
   "source": [
    "## Feature examples\n",
    "* Amazon SageMaker JumpStart\n",
    "* [Amazon SageMaker Data Wrangler](data-wrangler/data-wrangler-demo.ipynb)\n",
    "* [Amazon SageMaker Feature Store](amazon-sagemaker-examples.git/sagemaker-featurestore/sagemaker_featurestore_fraud_detection_python_sdk.ipynb)\n",
    "* [Amazon SageMaker Pipeline](amazon-sagemaker-examples.git/sagemaker-pipelines/sagemaker-pipelines-preprocess-train-evaluate-batch-transform.ipynb)\n"
   ]
  },
  {
   "cell_type": "markdown",
   "metadata": {},
   "source": [
    "## Advanced axamples\n",
    "* [MLOps: Amazon SageMaker Pipeline powered with Personalize](ai-service-pipeline/jester_dataset.ipynb)\n",
    "* [Amazon SageMaker Lineage](amazon-sagemaker-examples.git/sagemaker-lineage/sagemaker-lineage.ipynb)\n",
    "* [Amazon SageMaker Clarify]()\n"
   ]
  },
  {
   "cell_type": "code",
   "execution_count": null,
   "metadata": {},
   "outputs": [],
   "source": []
  }
 ],
 "metadata": {
  "instance_type": "ml.t3.medium",
  "kernelspec": {
   "display_name": "Python 3 (Base Python)",
   "language": "python",
   "name": "python3__SAGEMAKER_INTERNAL__arn:aws:sagemaker:us-east-1:081325390199:image/python-3.6"
  },
  "language_info": {
   "codemirror_mode": {
    "name": "ipython",
    "version": 3
   },
   "file_extension": ".py",
   "mimetype": "text/x-python",
   "name": "python",
   "nbconvert_exporter": "python",
   "pygments_lexer": "ipython3",
   "version": "3.6.12"
  }
 },
 "nbformat": 4,
 "nbformat_minor": 4
}
