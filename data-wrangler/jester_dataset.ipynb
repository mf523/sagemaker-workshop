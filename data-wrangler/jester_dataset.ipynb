{
 "cells": [
  {
   "cell_type": "markdown",
   "metadata": {},
   "source": [
    "# Amazon SageMaker Data Wrangler"
   ]
  },
  {
   "cell_type": "markdown",
   "metadata": {},
   "source": [
    "## Data collection"
   ]
  },
  {
   "cell_type": "markdown",
   "metadata": {},
   "source": [
    "Jester Datasets for Recommender Systems and Collaborative Filtering Research ([click](http://eigentaste.berkeley.edu/dataset/)) is the data we use to demostrate the function nality of Data Wrangler. This datasets is comprised of dataset 1/3/4, we will pick dataset 4 specifically, since it contains relatively newer and less records than prio ones.\n",
    "\n",
    "The data is formatted as an excel file representing a 7699 by 159 matrix with rows as users and columns as jokes. The left-most column represents the amount of jokes rated by each user. There are a total of 7699 users and 158 jokes in this dataset."
   ]
  },
  {
   "cell_type": "markdown",
   "metadata": {},
   "source": [
    "### Download dataset"
   ]
  },
  {
   "cell_type": "code",
   "execution_count": 1,
   "metadata": {},
   "outputs": [
    {
     "name": "stdout",
     "output_type": "stream",
     "text": [
      "Archive:  JesterDataset4.zip\n",
      "  inflating: [final] April 2015 to Nov 30 2019 - Transformed Jester Data - .xlsx  \n",
      "   creating: __MACOSX/\n",
      "  inflating: __MACOSX/._[final] April 2015 to Nov 30 2019 - Transformed Jester Data - .xlsx  \n"
     ]
    },
    {
     "name": "stderr",
     "output_type": "stream",
     "text": [
      "--2020-12-10 16:51:10--  http://eigentaste.berkeley.edu/dataset/JesterDataset4.zip\n",
      "Resolving eigentaste.berkeley.edu (eigentaste.berkeley.edu)... 128.32.192.72\n",
      "Connecting to eigentaste.berkeley.edu (eigentaste.berkeley.edu)|128.32.192.72|:80... connected.\n",
      "HTTP request sent, awaiting response... 200 OK\n",
      "Length: 1378454 (1.3M) [application/zip]\n",
      "Saving to: ‘JesterDataset4.zip’\n",
      "\n",
      "     0K .......... .......... .......... .......... ..........  3%  419K 3s\n",
      "    50K .......... .......... .......... .......... ..........  7%  794K 2s\n",
      "   100K .......... .......... .......... .......... .......... 11%  105M 1s\n",
      "   150K .......... .......... .......... .......... .......... 14%  119M 1s\n",
      "   200K .......... .......... .......... .......... .......... 18%  801K 1s\n",
      "   250K .......... .......... .......... .......... .......... 22% 97.4M 1s\n",
      "   300K .......... .......... .......... .......... .......... 26% 39.4M 1s\n",
      "   350K .......... .......... .......... .......... .......... 29%  308M 1s\n",
      "   400K .......... .......... .......... .......... .......... 33%  821K 1s\n",
      "   450K .......... .......... .......... .......... .......... 37%  118M 1s\n",
      "   500K .......... .......... .......... .......... .......... 40% 80.9M 0s\n",
      "   550K .......... .......... .......... .......... .......... 44% 72.3M 0s\n",
      "   600K .......... .......... .......... .......... .......... 48%  123M 0s\n",
      "   650K .......... .......... .......... .......... .......... 52%  155M 0s\n",
      "   700K .......... .......... .......... .......... .......... 55%  106M 0s\n",
      "   750K .......... .......... .......... .......... .......... 59%  126M 0s\n",
      "   800K .......... .......... .......... .......... .......... 63%  834K 0s\n",
      "   850K .......... .......... .......... .......... .......... 66% 97.0M 0s\n",
      "   900K .......... .......... .......... .......... .......... 70%  175M 0s\n",
      "   950K .......... .......... .......... .......... .......... 74%  106M 0s\n",
      "  1000K .......... .......... .......... .......... .......... 78% 95.0M 0s\n",
      "  1050K .......... .......... .......... .......... .......... 81%  123M 0s\n",
      "  1100K .......... .......... .......... .......... .......... 85% 88.8M 0s\n",
      "  1150K .......... .......... .......... .......... .......... 89%  102M 0s\n",
      "  1200K .......... .......... .......... .......... .......... 92%  105M 0s\n",
      "  1250K .......... .......... .......... .......... .......... 96%  136M 0s\n",
      "  1300K .......... .......... .......... .......... ......    100%  233M=0.4s\n",
      "\n",
      "2020-12-10 16:51:11 (3.50 MB/s) - ‘JesterDataset4.zip’ saved [1378454/1378454]\n",
      "\n"
     ]
    }
   ],
   "source": [
    "%%bash -s \"JesterDataset4\" \"[final] April 2015 to Nov 30 2019 - Transformed Jester Data - \"\n",
    "\n",
    "rm -rf data\n",
    "mkdir data\n",
    "cd data\n",
    "wget -c \"http://eigentaste.berkeley.edu/dataset/$1.zip\"\n",
    "unzip \"$1.zip\"\n",
    "mv \"$2.xlsx\" \"$1.xlsx\"\n"
   ]
  },
  {
   "cell_type": "markdown",
   "metadata": {},
   "source": [
    "### Load data into DataFrame"
   ]
  },
  {
   "cell_type": "code",
   "execution_count": 2,
   "metadata": {},
   "outputs": [
    {
     "data": {
      "text/html": [
       "<div>\n",
       "<style scoped>\n",
       "    .dataframe tbody tr th:only-of-type {\n",
       "        vertical-align: middle;\n",
       "    }\n",
       "\n",
       "    .dataframe tbody tr th {\n",
       "        vertical-align: top;\n",
       "    }\n",
       "\n",
       "    .dataframe thead th {\n",
       "        text-align: right;\n",
       "    }\n",
       "</style>\n",
       "<table border=\"1\" class=\"dataframe\">\n",
       "  <thead>\n",
       "    <tr style=\"text-align: right;\">\n",
       "      <th></th>\n",
       "      <th>1</th>\n",
       "      <th>2</th>\n",
       "      <th>3</th>\n",
       "      <th>4</th>\n",
       "      <th>5</th>\n",
       "      <th>6</th>\n",
       "      <th>7</th>\n",
       "      <th>8</th>\n",
       "      <th>9</th>\n",
       "      <th>10</th>\n",
       "      <th>...</th>\n",
       "      <th>149</th>\n",
       "      <th>150</th>\n",
       "      <th>151</th>\n",
       "      <th>152</th>\n",
       "      <th>153</th>\n",
       "      <th>154</th>\n",
       "      <th>155</th>\n",
       "      <th>156</th>\n",
       "      <th>157</th>\n",
       "      <th>158</th>\n",
       "    </tr>\n",
       "    <tr>\n",
       "      <th>user_id</th>\n",
       "      <th></th>\n",
       "      <th></th>\n",
       "      <th></th>\n",
       "      <th></th>\n",
       "      <th></th>\n",
       "      <th></th>\n",
       "      <th></th>\n",
       "      <th></th>\n",
       "      <th></th>\n",
       "      <th></th>\n",
       "      <th></th>\n",
       "      <th></th>\n",
       "      <th></th>\n",
       "      <th></th>\n",
       "      <th></th>\n",
       "      <th></th>\n",
       "      <th></th>\n",
       "      <th></th>\n",
       "      <th></th>\n",
       "      <th></th>\n",
       "      <th></th>\n",
       "    </tr>\n",
       "  </thead>\n",
       "  <tbody>\n",
       "    <tr>\n",
       "      <th>1</th>\n",
       "      <td>99</td>\n",
       "      <td>99</td>\n",
       "      <td>99</td>\n",
       "      <td>99</td>\n",
       "      <td>99</td>\n",
       "      <td>99</td>\n",
       "      <td>99.0</td>\n",
       "      <td>99.0</td>\n",
       "      <td>99</td>\n",
       "      <td>99</td>\n",
       "      <td>...</td>\n",
       "      <td>99.0</td>\n",
       "      <td>99.0</td>\n",
       "      <td>99.00</td>\n",
       "      <td>99.00</td>\n",
       "      <td>99.0</td>\n",
       "      <td>99.0</td>\n",
       "      <td>99.0</td>\n",
       "      <td>99.0</td>\n",
       "      <td>99.00</td>\n",
       "      <td>99.00</td>\n",
       "    </tr>\n",
       "    <tr>\n",
       "      <th>1</th>\n",
       "      <td>99</td>\n",
       "      <td>99</td>\n",
       "      <td>99</td>\n",
       "      <td>99</td>\n",
       "      <td>99</td>\n",
       "      <td>99</td>\n",
       "      <td>99.0</td>\n",
       "      <td>99.0</td>\n",
       "      <td>99</td>\n",
       "      <td>99</td>\n",
       "      <td>...</td>\n",
       "      <td>99.0</td>\n",
       "      <td>99.0</td>\n",
       "      <td>99.00</td>\n",
       "      <td>99.00</td>\n",
       "      <td>99.0</td>\n",
       "      <td>99.0</td>\n",
       "      <td>99.0</td>\n",
       "      <td>99.0</td>\n",
       "      <td>99.00</td>\n",
       "      <td>99.00</td>\n",
       "    </tr>\n",
       "    <tr>\n",
       "      <th>4</th>\n",
       "      <td>99</td>\n",
       "      <td>99</td>\n",
       "      <td>99</td>\n",
       "      <td>99</td>\n",
       "      <td>99</td>\n",
       "      <td>99</td>\n",
       "      <td>99.0</td>\n",
       "      <td>99.0</td>\n",
       "      <td>99</td>\n",
       "      <td>99</td>\n",
       "      <td>...</td>\n",
       "      <td>99.0</td>\n",
       "      <td>99.0</td>\n",
       "      <td>99.00</td>\n",
       "      <td>99.00</td>\n",
       "      <td>99.0</td>\n",
       "      <td>99.0</td>\n",
       "      <td>99.0</td>\n",
       "      <td>99.0</td>\n",
       "      <td>99.00</td>\n",
       "      <td>99.00</td>\n",
       "    </tr>\n",
       "    <tr>\n",
       "      <th>47</th>\n",
       "      <td>99</td>\n",
       "      <td>99</td>\n",
       "      <td>99</td>\n",
       "      <td>99</td>\n",
       "      <td>99</td>\n",
       "      <td>99</td>\n",
       "      <td>99.0</td>\n",
       "      <td>99.0</td>\n",
       "      <td>99</td>\n",
       "      <td>99</td>\n",
       "      <td>...</td>\n",
       "      <td>99.0</td>\n",
       "      <td>99.0</td>\n",
       "      <td>5.61</td>\n",
       "      <td>-4.51</td>\n",
       "      <td>0.0</td>\n",
       "      <td>0.0</td>\n",
       "      <td>99.0</td>\n",
       "      <td>0.0</td>\n",
       "      <td>5.93</td>\n",
       "      <td>4.19</td>\n",
       "    </tr>\n",
       "    <tr>\n",
       "      <th>13</th>\n",
       "      <td>99</td>\n",
       "      <td>99</td>\n",
       "      <td>99</td>\n",
       "      <td>99</td>\n",
       "      <td>99</td>\n",
       "      <td>99</td>\n",
       "      <td>99.0</td>\n",
       "      <td>99.0</td>\n",
       "      <td>99</td>\n",
       "      <td>99</td>\n",
       "      <td>...</td>\n",
       "      <td>99.0</td>\n",
       "      <td>99.0</td>\n",
       "      <td>99.00</td>\n",
       "      <td>99.00</td>\n",
       "      <td>99.0</td>\n",
       "      <td>0.0</td>\n",
       "      <td>99.0</td>\n",
       "      <td>99.0</td>\n",
       "      <td>99.00</td>\n",
       "      <td>0.00</td>\n",
       "    </tr>\n",
       "  </tbody>\n",
       "</table>\n",
       "<p>5 rows × 158 columns</p>\n",
       "</div>"
      ],
      "text/plain": [
       "         1    2    3    4    5    6     7     8    9    10   ...   149   150  \\\n",
       "user_id                                                      ...               \n",
       "1         99   99   99   99   99   99  99.0  99.0   99   99  ...  99.0  99.0   \n",
       "1         99   99   99   99   99   99  99.0  99.0   99   99  ...  99.0  99.0   \n",
       "4         99   99   99   99   99   99  99.0  99.0   99   99  ...  99.0  99.0   \n",
       "47        99   99   99   99   99   99  99.0  99.0   99   99  ...  99.0  99.0   \n",
       "13        99   99   99   99   99   99  99.0  99.0   99   99  ...  99.0  99.0   \n",
       "\n",
       "           151    152   153   154   155   156    157    158  \n",
       "user_id                                                      \n",
       "1        99.00  99.00  99.0  99.0  99.0  99.0  99.00  99.00  \n",
       "1        99.00  99.00  99.0  99.0  99.0  99.0  99.00  99.00  \n",
       "4        99.00  99.00  99.0  99.0  99.0  99.0  99.00  99.00  \n",
       "47        5.61  -4.51   0.0   0.0  99.0   0.0   5.93   4.19  \n",
       "13       99.00  99.00  99.0   0.0  99.0  99.0  99.00   0.00  \n",
       "\n",
       "[5 rows x 158 columns]"
      ]
     },
     "execution_count": 2,
     "metadata": {},
     "output_type": "execute_result"
    }
   ],
   "source": [
    "import pandas as pd \n",
    "  \n",
    "# read an excel file and convert  \n",
    "# into a dataframe object \n",
    "df = pd.DataFrame(\n",
    "        pd.read_excel(\n",
    "            \"data/JesterDataset4.xlsx\",\n",
    "            index_col=0,\n",
    "            header=None,\n",
    "        )\n",
    "    ) \n",
    "\n",
    "df.index.rename('user_id', inplace=True)\n",
    "\n",
    "# show the dataframe\n",
    "df.head()"
   ]
  },
  {
   "cell_type": "markdown",
   "metadata": {},
   "source": [
    "### Save original data into a csv file"
   ]
  },
  {
   "cell_type": "code",
   "execution_count": 3,
   "metadata": {},
   "outputs": [],
   "source": [
    "csv_orig = 'jester_ds4_orig.csv'\n",
    "\n",
    "df.to_csv(f\"data/{csv_orig}\", header=True, index=True, index_label='user_id')"
   ]
  },
  {
   "cell_type": "code",
   "execution_count": 4,
   "metadata": {},
   "outputs": [
    {
     "name": "stdout",
     "output_type": "stream",
     "text": [
      "user_id,1,2,3,4,5,6,7,8,9,10,11,12,13,14,15,16,17,18,19,20,21,22,23,24,25,26,27,28,29,30,31,32,33,34,35,36,37,38,39,40,41,42,43,44,45,46,47,48,49,50,51,52,53,54,55,56,57,58,59,60,61,62,63,64,65,66,67,68,69,70,71,72,73,74,75,76,77,78,79,80,81,82,83,84,85,86,87,88,89,90,91,92,93,94,95,96,97,98,99,100,101,102,103,104,105,106,107,108,109,110,111,112,113,114,115,116,117,118,119,120,121,122,123,124,125,126,127,128,129,130,131,132,133,134,135,136,137,138,139,140,141,142,143,144,145,146,147,148,149,150,151,152,153,154,155,156,157,158\n",
      "1,99,99,99,99,99,99,99.0,99.0,99,99,99,99,99.0,99,99.0,99.0,99.0,99.0,99.0,99,99.0,99.0,99.0,99.0,99.0,99.0,99,99.0,99.0,99.0,99,99.0,99.0,99.0,99.0,99.0,99.0,99.0,99.0,99.0,99.0,99.0,99,99.0,99.0,99.0,99.0,99.0,99.0,99.0,99,99,99.0,99.0,99.0,99.0,99.0,99.0,99.0,99.0,99,99.0,99.0,99.0,99.0,99.0,99.0,99.0,99.0,99.0,99.0,3.7,99,99.0,99.0,99.0,99.0,99.0,99.0,99,99.0,99.0,99.0,99.0,99.0,99.0,99.0,99.0,99.0,99.0,99.0,99.0,99.0,99.0,99.0,99.0,99.0,99.0,99.0,99,99.0,99.0,99.0,99.0,99.0,99.0,99.0,99.0,99.0,99.0,99.0,99.0,99.0,99.0,99.0,99,99.0,99.0,99.0,99.0,99.0,99.0,99.0,99.0,99.0,99.0,99.0,99.0,99.0,99.0,99.0,99.0,99.0,99.0,99.0,99.0,99.0,99.0,99.0,99.0,99.0,99.0,99.0,99.0,99.0,99.0,99.0,99.0,99.0,99.0,99.0,99.0,99.0,99.0,99.0,99.0,99.0,99.0\n",
      "1,99,99,99,99,99,99,99.0,99.0,99,99,99,99,99.0,99,99.0,99.0,99.0,99.0,99.0,99,99.0,99.0,99.0,99.0,99.0,99.0,99,99.0,99.0,99.0,99,99.0,99.0,99.0,99.0,99.0,99.0,99.0,99.0,99.0,99.0,99.0,99,99.0,99.0,99.0,99.0,99.0,99.0,99.0,99,99,99.0,99.0,99.0,99.0,99.0,99.0,99.0,99.0,99,99.0,99.0,99.0,99.0,99.0,99.0,99.0,99.0,99.0,99.0,8.209999999999999,99,99.0,99.0,99.0,99.0,99.0,99.0,99,99.0,99.0,99.0,99.0,99.0,99.0,99.0,99.0,99.0,99.0,99.0,99.0,99.0,99.0,99.0,99.0,99.0,99.0,99.0,99,99.0,99.0,99.0,99.0,99.0,99.0,99.0,99.0,99.0,99.0,99.0,99.0,99.0,99.0,99.0,99,99.0,99.0,99.0,99.0,99.0,99.0,99.0,99.0,99.0,99.0,99.0,99.0,99.0,99.0,99.0,99.0,99.0,99.0,99.0,99.0,99.0,99.0,99.0,99.0,99.0,99.0,99.0,99.0,99.0,99.0,99.0,99.0,99.0,99.0,99.0,99.0,99.0,99.0,99.0,99.0,99.0,99.0\n"
     ]
    }
   ],
   "source": [
    "%%bash -s \"data/$csv_orig\"\n",
    "\n",
    "head -3 \"$1\""
   ]
  },
  {
   "cell_type": "markdown",
   "metadata": {},
   "source": [
    "### Convert data from wide form to long form"
   ]
  },
  {
   "cell_type": "code",
   "execution_count": 5,
   "metadata": {},
   "outputs": [
    {
     "data": {
      "text/html": [
       "<div>\n",
       "<style scoped>\n",
       "    .dataframe tbody tr th:only-of-type {\n",
       "        vertical-align: middle;\n",
       "    }\n",
       "\n",
       "    .dataframe tbody tr th {\n",
       "        vertical-align: top;\n",
       "    }\n",
       "\n",
       "    .dataframe thead th {\n",
       "        text-align: right;\n",
       "    }\n",
       "</style>\n",
       "<table border=\"1\" class=\"dataframe\">\n",
       "  <thead>\n",
       "    <tr style=\"text-align: right;\">\n",
       "      <th></th>\n",
       "      <th>user_id</th>\n",
       "      <th>item_id</th>\n",
       "      <th>rating</th>\n",
       "    </tr>\n",
       "  </thead>\n",
       "  <tbody>\n",
       "    <tr>\n",
       "      <th>0</th>\n",
       "      <td>1</td>\n",
       "      <td>1</td>\n",
       "      <td>99.0</td>\n",
       "    </tr>\n",
       "    <tr>\n",
       "      <th>1</th>\n",
       "      <td>1</td>\n",
       "      <td>2</td>\n",
       "      <td>99.0</td>\n",
       "    </tr>\n",
       "    <tr>\n",
       "      <th>2</th>\n",
       "      <td>1</td>\n",
       "      <td>3</td>\n",
       "      <td>99.0</td>\n",
       "    </tr>\n",
       "    <tr>\n",
       "      <th>3</th>\n",
       "      <td>1</td>\n",
       "      <td>4</td>\n",
       "      <td>99.0</td>\n",
       "    </tr>\n",
       "    <tr>\n",
       "      <th>4</th>\n",
       "      <td>1</td>\n",
       "      <td>5</td>\n",
       "      <td>99.0</td>\n",
       "    </tr>\n",
       "    <tr>\n",
       "      <th>...</th>\n",
       "      <td>...</td>\n",
       "      <td>...</td>\n",
       "      <td>...</td>\n",
       "    </tr>\n",
       "    <tr>\n",
       "      <th>1216437</th>\n",
       "      <td>2</td>\n",
       "      <td>154</td>\n",
       "      <td>99.0</td>\n",
       "    </tr>\n",
       "    <tr>\n",
       "      <th>1216438</th>\n",
       "      <td>2</td>\n",
       "      <td>155</td>\n",
       "      <td>99.0</td>\n",
       "    </tr>\n",
       "    <tr>\n",
       "      <th>1216439</th>\n",
       "      <td>2</td>\n",
       "      <td>156</td>\n",
       "      <td>99.0</td>\n",
       "    </tr>\n",
       "    <tr>\n",
       "      <th>1216440</th>\n",
       "      <td>2</td>\n",
       "      <td>157</td>\n",
       "      <td>99.0</td>\n",
       "    </tr>\n",
       "    <tr>\n",
       "      <th>1216441</th>\n",
       "      <td>2</td>\n",
       "      <td>158</td>\n",
       "      <td>99.0</td>\n",
       "    </tr>\n",
       "  </tbody>\n",
       "</table>\n",
       "<p>1216442 rows × 3 columns</p>\n",
       "</div>"
      ],
      "text/plain": [
       "         user_id  item_id  rating\n",
       "0              1        1    99.0\n",
       "1              1        2    99.0\n",
       "2              1        3    99.0\n",
       "3              1        4    99.0\n",
       "4              1        5    99.0\n",
       "...          ...      ...     ...\n",
       "1216437        2      154    99.0\n",
       "1216438        2      155    99.0\n",
       "1216439        2      156    99.0\n",
       "1216440        2      157    99.0\n",
       "1216441        2      158    99.0\n",
       "\n",
       "[1216442 rows x 3 columns]"
      ]
     },
     "execution_count": 5,
     "metadata": {},
     "output_type": "execute_result"
    }
   ],
   "source": [
    "df_tmp = df.stack()\n",
    "df_tmp.index.rename(['user_id', 'item_id'], inplace=True)\n",
    "df_tmp = df_tmp.rename('rating')\n",
    "df = df_tmp.reset_index(['user_id', 'item_id'])\n",
    "df"
   ]
  },
  {
   "cell_type": "markdown",
   "metadata": {},
   "source": [
    "### Save converted data into a csv file"
   ]
  },
  {
   "cell_type": "code",
   "execution_count": 6,
   "metadata": {},
   "outputs": [],
   "source": [
    "csv_long = 'jester_ds4_long.csv'\n",
    "\n",
    "df.to_csv(f\"data/{csv_long}\", header=True, index=False)"
   ]
  },
  {
   "cell_type": "code",
   "execution_count": 7,
   "metadata": {},
   "outputs": [
    {
     "name": "stdout",
     "output_type": "stream",
     "text": [
      "user_id,item_id,rating\n",
      "1,1,99.0\n",
      "1,2,99.0\n",
      "1,3,99.0\n",
      "1,4,99.0\n"
     ]
    }
   ],
   "source": [
    "%%bash -s \"data/$csv_long\"\n",
    "\n",
    "head -5 \"$1\""
   ]
  },
  {
   "cell_type": "markdown",
   "metadata": {},
   "source": [
    "### Upload data to S3"
   ]
  },
  {
   "cell_type": "code",
   "execution_count": null,
   "metadata": {},
   "outputs": [],
   "source": [
    "%%bash -s \"$csv_orig\" \"$csv_long\"\n",
    "\n",
    "aws s3 cp \"data/$1\" \"s3://your-bucket/your-folder/$1\"\n",
    "aws s3 cp \"data/$2\" \"s3://your-bucket/your-folder/$2\""
   ]
  },
  {
   "cell_type": "code",
   "execution_count": null,
   "metadata": {},
   "outputs": [],
   "source": []
  }
 ],
 "metadata": {
  "instance_type": "ml.t3.medium",
  "kernelspec": {
   "display_name": "Python 3 (Data Science)",
   "language": "python",
   "name": "python3__SAGEMAKER_INTERNAL__arn:aws:sagemaker:us-east-1:081325390199:image/datascience-1.0"
  },
  "language_info": {
   "codemirror_mode": {
    "name": "ipython",
    "version": 3
   },
   "file_extension": ".py",
   "mimetype": "text/x-python",
   "name": "python",
   "nbconvert_exporter": "python",
   "pygments_lexer": "ipython3",
   "version": "3.7.6"
  }
 },
 "nbformat": 4,
 "nbformat_minor": 4
}
