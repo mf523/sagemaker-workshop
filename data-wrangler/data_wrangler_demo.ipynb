{
 "cells": [
  {
   "cell_type": "markdown",
   "metadata": {},
   "source": [
    "# Amazon SageMaker Data Wrangler"
   ]
  },
  {
   "cell_type": "markdown",
   "metadata": {},
   "source": [
    "## **Contents**\n",
    "1. [About the dataset](#About-the-dataset)\n",
    "1. [Data preprocessing](#Data-preprocessing)"
   ]
  },
  {
   "cell_type": "markdown",
   "metadata": {},
   "source": [
    "## About the dataset"
   ]
  },
  {
   "cell_type": "markdown",
   "metadata": {},
   "source": [
    "Original data is from Jester Datasets for Recommender Systems and Collaborative Filtering Research ([click](http://eigentaste.berkeley.edu/dataset/)), converted to CSV formats, and uploaded with notebook [jester_dataset.ipynb](jester_dataset.ipynb)\n",
    "\n",
    "This datasets is comprised of 3 parts (dataset 1/3/4), we will pick dataset 4 in this demo, since this one contains relatively newer and less records than prio ones.\n",
    "\n",
    "Dataset 4 contains over 100,000 new ratings from 7,699 total users: data collected from April 2015 - Nov 2019."
   ]
  },
  {
   "cell_type": "markdown",
   "metadata": {},
   "source": [
    "### Download data from S3"
   ]
  },
  {
   "cell_type": "code",
   "execution_count": 1,
   "metadata": {},
   "outputs": [],
   "source": [
    "csv_orig = 'jester_ds4_orig.csv'\n",
    "csv_long = 'jester_ds4_long.csv'\n"
   ]
  },
  {
   "cell_type": "code",
   "execution_count": null,
   "metadata": {},
   "outputs": [],
   "source": [
    "%%bash -s \"$csv_orig\" \"$csv_long\"\n",
    "\n",
    "mkdir data\n",
    "aws s3 cp \"s3://your-bucket/your-folder/$1\" \"data/$1\"\n",
    "aws s3 cp \"s3://your-bucket/your-folder/$2\" \"data/$2\"\n"
   ]
  },
  {
   "cell_type": "markdown",
   "metadata": {},
   "source": [
    "### Original data as a csv file"
   ]
  },
  {
   "cell_type": "code",
   "execution_count": 3,
   "metadata": {},
   "outputs": [
    {
     "name": "stdout",
     "output_type": "stream",
     "text": [
      "user_id,1,2,3,4,5,6,7,8,9,10,11,12,13,14,15,16,17,18,19,20,21,22,23,24,25,26,27,28,29,30,31,32,33,34,35,36,37,38,39,40,41,42,43,44,45,46,47,48,49,50,51,52,53,54,55,56,57,58,59,60,61,62,63,64,65,66,67,68,69,70,71,72,73,74,75,76,77,78,79,80,81,82,83,84,85,86,87,88,89,90,91,92,93,94,95,96,97,98,99,100,101,102,103,104,105,106,107,108,109,110,111,112,113,114,115,116,117,118,119,120,121,122,123,124,125,126,127,128,129,130,131,132,133,134,135,136,137,138,139,140,141,142,143,144,145,146,147,148,149,150,151,152,153,154,155,156,157,158\n",
      "1,99,99,99,99,99,99,99.0,99.0,99,99,99,99,99.0,99,99.0,99.0,99.0,99.0,99.0,99,99.0,99.0,99.0,99.0,99.0,99.0,99,99.0,99.0,99.0,99,99.0,99.0,99.0,99.0,99.0,99.0,99.0,99.0,99.0,99.0,99.0,99,99.0,99.0,99.0,99.0,99.0,99.0,99.0,99,99,99.0,99.0,99.0,99.0,99.0,99.0,99.0,99.0,99,99.0,99.0,99.0,99.0,99.0,99.0,99.0,99.0,99.0,99.0,3.7,99,99.0,99.0,99.0,99.0,99.0,99.0,99,99.0,99.0,99.0,99.0,99.0,99.0,99.0,99.0,99.0,99.0,99.0,99.0,99.0,99.0,99.0,99.0,99.0,99.0,99.0,99,99.0,99.0,99.0,99.0,99.0,99.0,99.0,99.0,99.0,99.0,99.0,99.0,99.0,99.0,99.0,99,99.0,99.0,99.0,99.0,99.0,99.0,99.0,99.0,99.0,99.0,99.0,99.0,99.0,99.0,99.0,99.0,99.0,99.0,99.0,99.0,99.0,99.0,99.0,99.0,99.0,99.0,99.0,99.0,99.0,99.0,99.0,99.0,99.0,99.0,99.0,99.0,99.0,99.0,99.0,99.0,99.0,99.0\n"
     ]
    }
   ],
   "source": [
    "%%bash -s \"data/$csv_orig\"\n",
    "\n",
    "head -2 \"$1\"\n"
   ]
  },
  {
   "cell_type": "markdown",
   "metadata": {},
   "source": [
    "### Converted from wide form to long form"
   ]
  },
  {
   "cell_type": "code",
   "execution_count": 4,
   "metadata": {},
   "outputs": [
    {
     "name": "stdout",
     "output_type": "stream",
     "text": [
      "user_id,item_id,rating\n",
      "1,1,99.0\n",
      "1,2,99.0\n",
      "1,3,99.0\n",
      "1,4,99.0\n"
     ]
    }
   ],
   "source": [
    "%%bash -s \"data/$csv_long\"\n",
    "\n",
    "head -5 \"$1\"\n"
   ]
  },
  {
   "cell_type": "markdown",
   "metadata": {},
   "source": [
    "## Data preprocessing\n",
    "Each rating is from (-10.00 to +10.00) and 99 corresponds to a null rating (user did not rate that joke).\n",
    "22 of the jokes don't have ratings, their ids are: {1, 2, 3, 4, 5, 6, 9, 10, 11, 12, 14, 20, 27, 31, 43, 51, 52, 61, 73, 80, 100, 116}.\n",
    "\n"
   ]
  },
  {
   "cell_type": "markdown",
   "metadata": {},
   "source": [
    "### Create new data flow\n",
    "* [File] => [New] => [Flow], or [File] => [New Launcher] => [New data flow], or [click me](empty.flow)\n",
    "* Click on [Amazon S3], select `jester_ds4_long.csv` from S3\n",
    "* Click on [Import dataset]"
   ]
  },
  {
   "cell_type": "markdown",
   "metadata": {},
   "source": [
    "### Transform data\n",
    "\n",
    "* Add transformer, Handle outliers, Min-max numeric outliers\n",
    "* Add transformer, Process numeric, Min-max scalar\n",
    "* (Optional) Add transformer, Custome transform, Python (Pandas), type in code like below\n",
    "\n",
    "```python\n",
    "# Table is available as variable `df`\n",
    "import time\n",
    "\n",
    "ts_now = int(time.time())\n",
    "df.insert(len(df.columns), 'ts', ts_now)\n",
    "\n",
    "df = df.reset_index(drop=True)\n",
    "df.insert(0, 'id', df.index)\n",
    "\n",
    "```"
   ]
  },
  {
   "cell_type": "markdown",
   "metadata": {},
   "source": [
    "### Analysis\n",
    "\n",
    "* Create new Analysis, Configure Tab, Chart Histogram, X axis RATING\n",
    "* (Optional) Create new Analysis, Code Tab, type in code like below, [Altair: Declarative Visualization in Python](https://altair-viz.github.io/)\n",
    "\n",
    "```python\n",
    "# Table is available as variable `df` of pandas dataframe\n",
    "# Output Altair chart is available as variable `chart`\n",
    "import altair as alt\n",
    "\n",
    "df_tmp = df['ITEM_ID'].value_counts()\n",
    "\n",
    "quantiles = [0, 0.01, 0.02, 0.05, 0.1, 0.2, 0.3, 0.4, 0.5, 0.6, 0.7, 0.8, 0.9, 0.95, 0.98, 0.99, 1]\n",
    "qntl = df_tmp.quantile(quantiles)\n",
    "df_qntl = qntl.to_frame('Observation')\n",
    "df_qntl.index.rename('%', inplace=True)\n",
    "df_qntl['Quantiles'] = df_qntl.index\n",
    "\n",
    "\n",
    "chart = alt.Chart(df_qntl).mark_line().encode(\n",
    "  x=alt.X(\n",
    "    \"Quantiles:Q\",\n",
    "    axis=alt.Axis(\n",
    "      tickCount=df_qntl.shape[0],\n",
    "      grid=False,\n",
    "      labelExpr=\"datum.value % 1 ? null : datum.label\",\n",
    "    )\n",
    "  ),\n",
    "  y='Observation'\n",
    ")\n",
    "\n",
    "```\n"
   ]
  },
  {
   "cell_type": "markdown",
   "metadata": {},
   "source": [
    "### Export data flow\n",
    "* Export as Data Wrangler Job\n",
    "* (Optional) Export as Pipeline\n",
    "* (Optional) Export as Feature Sture"
   ]
  },
  {
   "cell_type": "code",
   "execution_count": null,
   "metadata": {},
   "outputs": [],
   "source": []
  }
 ],
 "metadata": {
  "instance_type": "ml.t3.medium",
  "kernelspec": {
   "display_name": "Python 3 (Data Science)",
   "language": "python",
   "name": "python3__SAGEMAKER_INTERNAL__arn:aws:sagemaker:us-east-1:081325390199:image/datascience-1.0"
  },
  "language_info": {
   "codemirror_mode": {
    "name": "ipython",
    "version": 3
   },
   "file_extension": ".py",
   "mimetype": "text/x-python",
   "name": "python",
   "nbconvert_exporter": "python",
   "pygments_lexer": "ipython3",
   "version": "3.7.6"
  }
 },
 "nbformat": 4,
 "nbformat_minor": 4
}
