{
 "cells": [
  {
   "cell_type": "code",
   "execution_count": 6,
   "metadata": {},
   "outputs": [
    {
     "data": {
      "text/plain": [
       "0"
      ]
     },
     "execution_count": 6,
     "metadata": {},
     "output_type": "execute_result"
    }
   ],
   "source": [
    "import subprocess\n",
    "import sys\n",
    "\n",
    "subprocess.check_call(\n",
    "    [sys.executable, \"-m\", \"pip\", \"install\", \"pip\"]\n",
    ")\n",
    "subprocess.check_call(\n",
    "    [sys.executable, \"-m\", \"pip\", \"install\", \"altair\", \"vega_datasets\"]\n",
    ")\n",
    "subprocess.check_call(\n",
    "    [sys.executable, \"-m\", \"pip\", \"install\", \"ml_metrics\"]\n",
    ")"
   ]
  },
  {
   "cell_type": "markdown",
   "metadata": {},
   "source": [
    "$ sudo yum install gcc"
   ]
  },
  {
   "cell_type": "code",
   "execution_count": 2,
   "metadata": {},
   "outputs": [
    {
     "name": "stdout",
     "output_type": "stream",
     "text": [
      "Collecting git+https://github.com/statisticianinstilettos/recmetrics.git\n",
      "  Cloning https://github.com/statisticianinstilettos/recmetrics.git to /tmp/pip-req-build-f2928in0\n",
      "  Installing build dependencies: started\n",
      "  Installing build dependencies: finished with status 'done'\n",
      "  Getting requirements to build wheel: started\n",
      "  Getting requirements to build wheel: finished with status 'done'\n",
      "    Preparing wheel metadata: started\n",
      "    Preparing wheel metadata: finished with status 'done'\n",
      "Collecting seaborn<0.12.0,>=0.11.0\n",
      "  Using cached seaborn-0.11.0-py3-none-any.whl (283 kB)\n",
      "Collecting pandas<2.0.0,>=1.1.3\n",
      "  Using cached pandas-1.1.5-cp37-cp37m-manylinux1_x86_64.whl (9.5 MB)\n",
      "Processing /root/.cache/pip/wheels/76/44/74/b498c42be47b2406bd27994e16c5188e337c657025ab400c1c/scikit_surprise-1.1.1-cp37-cp37m-linux_x86_64.whl\n",
      "Collecting scikit-learn<0.24.0,>=0.23.2\n",
      "  Using cached scikit_learn-0.23.2-cp37-cp37m-manylinux1_x86_64.whl (6.8 MB)\n",
      "Collecting scipy<2.0.0,>=1.5.2\n",
      "  Using cached scipy-1.5.4-cp37-cp37m-manylinux1_x86_64.whl (25.9 MB)\n",
      "Requirement already satisfied, skipping upgrade: matplotlib<4.0.0,>=3.3.2 in /usr/local/lib/python3.7/site-packages (from recmetrics==0.1.0) (3.3.3)\n",
      "Collecting plotly<5.0.0,>=4.11.0\n",
      "  Using cached plotly-4.14.1-py2.py3-none-any.whl (13.2 MB)\n",
      "Collecting pytest-cov<3.0.0,>=2.10.1\n",
      "  Using cached pytest_cov-2.10.1-py2.py3-none-any.whl (19 kB)\n",
      "Collecting ipython<8.0.0,>=7.18.1\n",
      "  Using cached ipython-7.19.0-py3-none-any.whl (784 kB)\n",
      "Collecting funcsigs<2.0.0,>=1.0.2\n",
      "  Using cached funcsigs-1.0.2-py2.py3-none-any.whl (17 kB)\n",
      "Requirement already satisfied, skipping upgrade: numpy>=1.15 in /usr/local/lib/python3.7/site-packages (from seaborn<0.12.0,>=0.11.0->recmetrics==0.1.0) (1.19.1)\n",
      "Requirement already satisfied, skipping upgrade: pytz>=2017.2 in /usr/local/lib/python3.7/site-packages (from pandas<2.0.0,>=1.1.3->recmetrics==0.1.0) (2020.4)\n",
      "Requirement already satisfied, skipping upgrade: python-dateutil>=2.7.3 in /usr/local/lib/python3.7/site-packages (from pandas<2.0.0,>=1.1.3->recmetrics==0.1.0) (2.8.0)\n",
      "Collecting joblib>=0.11\n",
      "  Using cached joblib-0.17.0-py3-none-any.whl (301 kB)\n",
      "Requirement already satisfied, skipping upgrade: six>=1.10.0 in /usr/local/lib/python3.7/site-packages (from scikit-surprise<2.0.0,>=1.1.1->recmetrics==0.1.0) (1.15.0)\n",
      "Collecting threadpoolctl>=2.0.0\n",
      "  Using cached threadpoolctl-2.1.0-py3-none-any.whl (12 kB)\n",
      "Requirement already satisfied, skipping upgrade: pyparsing!=2.0.4,!=2.1.2,!=2.1.6,>=2.0.3 in /usr/local/lib/python3.7/site-packages (from matplotlib<4.0.0,>=3.3.2->recmetrics==0.1.0) (2.4.7)\n",
      "Requirement already satisfied, skipping upgrade: kiwisolver>=1.0.1 in /usr/local/lib/python3.7/site-packages (from matplotlib<4.0.0,>=3.3.2->recmetrics==0.1.0) (1.3.1)\n",
      "Requirement already satisfied, skipping upgrade: pillow>=6.2.0 in /usr/local/lib/python3.7/site-packages (from matplotlib<4.0.0,>=3.3.2->recmetrics==0.1.0) (8.0.1)\n",
      "Requirement already satisfied, skipping upgrade: cycler>=0.10 in /usr/local/lib/python3.7/site-packages (from matplotlib<4.0.0,>=3.3.2->recmetrics==0.1.0) (0.10.0)\n",
      "Requirement already satisfied, skipping upgrade: retrying>=1.3.3 in /usr/local/lib/python3.7/site-packages (from plotly<5.0.0,>=4.11.0->recmetrics==0.1.0) (1.3.3)\n",
      "Collecting coverage>=4.4\n",
      "  Using cached coverage-5.3-cp37-cp37m-manylinux1_x86_64.whl (229 kB)\n",
      "Collecting pytest>=4.6\n",
      "  Using cached pytest-6.2.0-py3-none-any.whl (279 kB)\n",
      "Requirement already satisfied, skipping upgrade: pexpect>4.3; sys_platform != \"win32\" in /usr/local/lib/python3.7/site-packages (from ipython<8.0.0,>=7.18.1->recmetrics==0.1.0) (4.8.0)\n",
      "Requirement already satisfied, skipping upgrade: pygments in /usr/local/lib/python3.7/site-packages (from ipython<8.0.0,>=7.18.1->recmetrics==0.1.0) (2.7.2)\n",
      "Requirement already satisfied, skipping upgrade: prompt-toolkit!=3.0.0,!=3.0.1,<3.1.0,>=2.0.0 in /usr/local/lib/python3.7/site-packages (from ipython<8.0.0,>=7.18.1->recmetrics==0.1.0) (3.0.8)\n",
      "Requirement already satisfied, skipping upgrade: setuptools>=18.5 in /usr/local/lib/python3.7/site-packages (from ipython<8.0.0,>=7.18.1->recmetrics==0.1.0) (50.3.2)\n",
      "Requirement already satisfied, skipping upgrade: backcall in /usr/local/lib/python3.7/site-packages (from ipython<8.0.0,>=7.18.1->recmetrics==0.1.0) (0.2.0)\n",
      "Requirement already satisfied, skipping upgrade: pickleshare in /usr/local/lib/python3.7/site-packages (from ipython<8.0.0,>=7.18.1->recmetrics==0.1.0) (0.7.5)\n",
      "Requirement already satisfied, skipping upgrade: jedi>=0.10 in /usr/local/lib/python3.7/site-packages (from ipython<8.0.0,>=7.18.1->recmetrics==0.1.0) (0.17.2)\n",
      "Requirement already satisfied, skipping upgrade: decorator in /usr/local/lib/python3.7/site-packages (from ipython<8.0.0,>=7.18.1->recmetrics==0.1.0) (4.4.2)\n",
      "Requirement already satisfied, skipping upgrade: traitlets>=4.2 in /usr/local/lib/python3.7/site-packages (from ipython<8.0.0,>=7.18.1->recmetrics==0.1.0) (4.3.3)\n",
      "Collecting pluggy<1.0.0a1,>=0.12\n",
      "  Using cached pluggy-0.13.1-py2.py3-none-any.whl (18 kB)\n",
      "Requirement already satisfied, skipping upgrade: importlib-metadata>=0.12; python_version < \"3.8\" in /usr/local/lib/python3.7/site-packages (from pytest>=4.6->pytest-cov<3.0.0,>=2.10.1->recmetrics==0.1.0) (3.1.0)\n",
      "Requirement already satisfied, skipping upgrade: packaging in /usr/local/lib/python3.7/site-packages (from pytest>=4.6->pytest-cov<3.0.0,>=2.10.1->recmetrics==0.1.0) (20.4)\n",
      "Requirement already satisfied, skipping upgrade: attrs>=19.2.0 in /usr/local/lib/python3.7/site-packages (from pytest>=4.6->pytest-cov<3.0.0,>=2.10.1->recmetrics==0.1.0) (20.3.0)\n",
      "Collecting iniconfig\n",
      "  Using cached iniconfig-1.1.1-py2.py3-none-any.whl (5.0 kB)\n",
      "Collecting py>=1.8.2\n",
      "  Using cached py-1.10.0-py2.py3-none-any.whl (97 kB)\n",
      "Collecting toml\n",
      "  Using cached toml-0.10.2-py2.py3-none-any.whl (16 kB)\n",
      "Requirement already satisfied, skipping upgrade: ptyprocess>=0.5 in /usr/local/lib/python3.7/site-packages (from pexpect>4.3; sys_platform != \"win32\"->ipython<8.0.0,>=7.18.1->recmetrics==0.1.0) (0.6.0)\n",
      "Requirement already satisfied, skipping upgrade: wcwidth in /usr/local/lib/python3.7/site-packages (from prompt-toolkit!=3.0.0,!=3.0.1,<3.1.0,>=2.0.0->ipython<8.0.0,>=7.18.1->recmetrics==0.1.0) (0.2.5)\n",
      "Requirement already satisfied, skipping upgrade: parso<0.8.0,>=0.7.0 in /usr/local/lib/python3.7/site-packages (from jedi>=0.10->ipython<8.0.0,>=7.18.1->recmetrics==0.1.0) (0.7.1)\n",
      "Requirement already satisfied, skipping upgrade: ipython-genutils in /usr/local/lib/python3.7/site-packages (from traitlets>=4.2->ipython<8.0.0,>=7.18.1->recmetrics==0.1.0) (0.2.0)\n",
      "Requirement already satisfied, skipping upgrade: zipp>=0.5 in /usr/local/lib/python3.7/site-packages (from importlib-metadata>=0.12; python_version < \"3.8\"->pytest>=4.6->pytest-cov<3.0.0,>=2.10.1->recmetrics==0.1.0) (3.4.0)\n",
      "Building wheels for collected packages: recmetrics\n",
      "  Building wheel for recmetrics (PEP 517): started\n",
      "  Building wheel for recmetrics (PEP 517): finished with status 'done'\n",
      "  Created wheel for recmetrics: filename=recmetrics-0.1.0-py3-none-any.whl size=9309 sha256=268395aa8a7e2c7bb6b0be0905022ec0891fd224eeeb4296b96debfdf3c91f8a\n",
      "  Stored in directory: /tmp/pip-ephem-wheel-cache-k4jsxstp/wheels/82/41/d4/a404edf70eb577c4c0995d04122c5d56dd1fdc7869061239d1\n",
      "Successfully built recmetrics\n",
      "Installing collected packages: scipy, pandas, seaborn, joblib, scikit-surprise, threadpoolctl, scikit-learn, plotly, coverage, pluggy, iniconfig, py, toml, pytest, pytest-cov, ipython, funcsigs, recmetrics\n",
      "  Attempting uninstall: scipy\n",
      "    Found existing installation: scipy 1.2.2\n",
      "    Uninstalling scipy-1.2.2:\n",
      "      Successfully uninstalled scipy-1.2.2\n",
      "  Attempting uninstall: pandas\n",
      "    Found existing installation: pandas 0.25.1\n",
      "    Uninstalling pandas-0.25.1:\n",
      "      Successfully uninstalled pandas-0.25.1\n",
      "  Attempting uninstall: scikit-learn\n",
      "    Found existing installation: scikit-learn 0.20.4\n",
      "    Uninstalling scikit-learn-0.20.4:\n",
      "      Successfully uninstalled scikit-learn-0.20.4\n",
      "  Attempting uninstall: ipython\n",
      "    Found existing installation: ipython 7.16.1\n",
      "    Uninstalling ipython-7.16.1:\n",
      "      Successfully uninstalled ipython-7.16.1\n",
      "Successfully installed coverage-5.3 funcsigs-1.0.2 iniconfig-1.1.1 ipython-7.19.0 joblib-0.17.0 pandas-1.1.5 plotly-4.14.1 pluggy-0.13.1 py-1.10.0 pytest-6.2.0 pytest-cov-2.10.1 recmetrics-0.1.0 scikit-learn-0.23.2 scikit-surprise-1.1.1 scipy-1.5.4 seaborn-0.11.0 threadpoolctl-2.1.0 toml-0.10.2\n"
     ]
    },
    {
     "name": "stderr",
     "output_type": "stream",
     "text": [
      "WARNING: You are using pip version 20.2.4; however, version 20.3.1 is available.\n",
      "You should consider upgrading via the '/usr/local/bin/python -m pip install --upgrade pip' command.\n"
     ]
    }
   ],
   "source": [
    "%%bash\n",
    "python -m pip install --upgrade git+https://github.com/statisticianinstilettos/recmetrics.git"
   ]
  },
  {
   "cell_type": "code",
   "execution_count": 3,
   "metadata": {},
   "outputs": [
    {
     "name": "stdout",
     "output_type": "stream",
     "text": [
      "Requirement already up-to-date: sklearn in /usr/local/lib/python3.7/site-packages (0.0)\n",
      "Requirement already up-to-date: pandas in /usr/local/lib/python3.7/site-packages (1.1.5)\n",
      "Requirement already satisfied, skipping upgrade: scikit-learn in /usr/local/lib/python3.7/site-packages (from sklearn) (0.23.2)\n",
      "Requirement already satisfied, skipping upgrade: numpy>=1.15.4 in /usr/local/lib/python3.7/site-packages (from pandas) (1.19.1)\n",
      "Requirement already satisfied, skipping upgrade: pytz>=2017.2 in /usr/local/lib/python3.7/site-packages (from pandas) (2020.4)\n",
      "Requirement already satisfied, skipping upgrade: python-dateutil>=2.7.3 in /usr/local/lib/python3.7/site-packages (from pandas) (2.8.0)\n",
      "Requirement already satisfied, skipping upgrade: scipy>=0.19.1 in /usr/local/lib/python3.7/site-packages (from scikit-learn->sklearn) (1.5.4)\n",
      "Requirement already satisfied, skipping upgrade: joblib>=0.11 in /usr/local/lib/python3.7/site-packages (from scikit-learn->sklearn) (0.17.0)\n",
      "Requirement already satisfied, skipping upgrade: threadpoolctl>=2.0.0 in /usr/local/lib/python3.7/site-packages (from scikit-learn->sklearn) (2.1.0)\n",
      "Requirement already satisfied, skipping upgrade: six>=1.5 in /usr/local/lib/python3.7/site-packages (from python-dateutil>=2.7.3->pandas) (1.15.0)\n"
     ]
    },
    {
     "name": "stderr",
     "output_type": "stream",
     "text": [
      "WARNING: You are using pip version 20.2.4; however, version 20.3.1 is available.\n",
      "You should consider upgrading via the '/usr/local/bin/python -m pip install --upgrade pip' command.\n"
     ]
    }
   ],
   "source": [
    "%%bash\n",
    "python -m pip install --upgrade sklearn pandas"
   ]
  },
  {
   "cell_type": "code",
   "execution_count": 4,
   "metadata": {},
   "outputs": [
    {
     "data": {
      "text/html": [
       "\n",
       "<div id=\"altair-viz-2bf286c22b234a2281ca8e22d1cc6906\"></div>\n",
       "<script type=\"text/javascript\">\n",
       "  (function(spec, embedOpt){\n",
       "    let outputDiv = document.currentScript.previousElementSibling;\n",
       "    if (outputDiv.id !== \"altair-viz-2bf286c22b234a2281ca8e22d1cc6906\") {\n",
       "      outputDiv = document.getElementById(\"altair-viz-2bf286c22b234a2281ca8e22d1cc6906\");\n",
       "    }\n",
       "    const paths = {\n",
       "      \"vega\": \"https://cdn.jsdelivr.net/npm//vega@5?noext\",\n",
       "      \"vega-lib\": \"https://cdn.jsdelivr.net/npm//vega-lib?noext\",\n",
       "      \"vega-lite\": \"https://cdn.jsdelivr.net/npm//vega-lite@4.8.1?noext\",\n",
       "      \"vega-embed\": \"https://cdn.jsdelivr.net/npm//vega-embed@6?noext\",\n",
       "    };\n",
       "\n",
       "    function loadScript(lib) {\n",
       "      return new Promise(function(resolve, reject) {\n",
       "        var s = document.createElement('script');\n",
       "        s.src = paths[lib];\n",
       "        s.async = true;\n",
       "        s.onload = () => resolve(paths[lib]);\n",
       "        s.onerror = () => reject(`Error loading script: ${paths[lib]}`);\n",
       "        document.getElementsByTagName(\"head\")[0].appendChild(s);\n",
       "      });\n",
       "    }\n",
       "\n",
       "    function showError(err) {\n",
       "      outputDiv.innerHTML = `<div class=\"error\" style=\"color:red;\">${err}</div>`;\n",
       "      throw err;\n",
       "    }\n",
       "\n",
       "    function displayChart(vegaEmbed) {\n",
       "      vegaEmbed(outputDiv, spec, embedOpt)\n",
       "        .catch(err => showError(`Javascript Error: ${err.message}<br>This usually means there's a typo in your chart specification. See the javascript console for the full traceback.`));\n",
       "    }\n",
       "\n",
       "    if(typeof define === \"function\" && define.amd) {\n",
       "      requirejs.config({paths});\n",
       "      require([\"vega-embed\"], displayChart, err => showError(`Error loading script: ${err.message}`));\n",
       "    } else if (typeof vegaEmbed === \"function\") {\n",
       "      displayChart(vegaEmbed);\n",
       "    } else {\n",
       "      loadScript(\"vega\")\n",
       "        .then(() => loadScript(\"vega-lite\"))\n",
       "        .then(() => loadScript(\"vega-embed\"))\n",
       "        .catch(showError)\n",
       "        .then(() => displayChart(vegaEmbed));\n",
       "    }\n",
       "  })({\"config\": {\"view\": {\"continuousWidth\": 400, \"continuousHeight\": 300}}, \"data\": {\"name\": \"data-c2a3e89ba9d5d1687d5e8c28d630a033\"}, \"mark\": \"bar\", \"encoding\": {\"x\": {\"type\": \"nominal\", \"field\": \"a\"}, \"y\": {\"type\": \"quantitative\", \"field\": \"b\"}}, \"$schema\": \"https://vega.github.io/schema/vega-lite/v4.8.1.json\", \"datasets\": {\"data-c2a3e89ba9d5d1687d5e8c28d630a033\": [{\"a\": \"A\", \"b\": 28}, {\"a\": \"B\", \"b\": 55}, {\"a\": \"C\", \"b\": 43}, {\"a\": \"D\", \"b\": 91}, {\"a\": \"E\", \"b\": 81}, {\"a\": \"F\", \"b\": 53}, {\"a\": \"G\", \"b\": 19}, {\"a\": \"H\", \"b\": 87}, {\"a\": \"I\", \"b\": 52}]}}, {\"mode\": \"vega-lite\"});\n",
       "</script>"
      ],
      "text/plain": [
       "alt.Chart(...)"
      ]
     },
     "execution_count": 4,
     "metadata": {},
     "output_type": "execute_result"
    }
   ],
   "source": [
    "import altair as alt\n",
    "import pandas as pd\n",
    "\n",
    "source = pd.DataFrame({\n",
    "    'a': ['A', 'B', 'C', 'D', 'E', 'F', 'G', 'H', 'I'],\n",
    "    'b': [28, 55, 43, 91, 81, 53, 19, 87, 52]\n",
    "})\n",
    "\n",
    "alt.Chart(source).mark_bar().encode(\n",
    "    x='a',\n",
    "    y='b'\n",
    ")"
   ]
  },
  {
   "cell_type": "code",
   "execution_count": 5,
   "metadata": {},
   "outputs": [
    {
     "name": "stdout",
     "output_type": "stream",
     "text": [
      "0.8888888888888888\n",
      "9\n"
     ]
    }
   ],
   "source": [
    "import ml_metrics as metrics\n",
    "\n",
    "print(metrics.auc([1,1,1,0,0,0], [0.9,0.8,0.4,0.5,0.2,0.1]))\n",
    "print(metrics.se(1, 4))"
   ]
  },
  {
   "cell_type": "code",
   "execution_count": null,
   "metadata": {},
   "outputs": [],
   "source": []
  }
 ],
 "metadata": {
  "instance_type": "ml.g4dn.xlarge",
  "kernelspec": {
   "display_name": "Python 3 (MXNet 1.8 Python 3.7 GPU Optimized)",
   "language": "python",
   "name": "python3__SAGEMAKER_INTERNAL__arn:aws:sagemaker:us-east-1:081325390199:image/mxnet-1.8-gpu-py37-cu110-ubuntu16.04-v1"
  },
  "language_info": {
   "codemirror_mode": {
    "name": "ipython",
    "version": 3
   },
   "file_extension": ".py",
   "mimetype": "text/x-python",
   "name": "python",
   "nbconvert_exporter": "python",
   "pygments_lexer": "ipython3",
   "version": "3.7.9"
  }
 },
 "nbformat": 4,
 "nbformat_minor": 4
}
