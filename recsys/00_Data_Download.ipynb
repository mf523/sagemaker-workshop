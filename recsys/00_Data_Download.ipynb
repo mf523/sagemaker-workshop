{
 "cells": [
  {
   "cell_type": "markdown",
   "metadata": {},
   "source": [
    "## MovieLens latest-small"
   ]
  },
  {
   "cell_type": "code",
   "execution_count": 1,
   "metadata": {},
   "outputs": [],
   "source": [
    "dataset_name = \"ml-latest-small\"\n",
    "url = \"http://files.grouplens.org/datasets/movielens/ml-latest-small.zip\"\n",
    "interaction_filename = \"ratings.csv\""
   ]
  },
  {
   "cell_type": "code",
   "execution_count": 2,
   "metadata": {},
   "outputs": [
    {
     "name": "stdout",
     "output_type": "stream",
     "text": [
      "Archive:  data/ml-latest-small.zip\n",
      "  inflating: data/ml-latest-small/links.csv  \n",
      "  inflating: data/ml-latest-small/tags.csv  \n",
      "  inflating: data/ml-latest-small/ratings.csv  \n",
      "  inflating: data/ml-latest-small/README.txt  \n",
      "  inflating: data/ml-latest-small/movies.csv  \n"
     ]
    },
    {
     "name": "stderr",
     "output_type": "stream",
     "text": [
      "  % Total    % Received % Xferd  Average Speed   Time    Time     Time  Current\n",
      "                                 Dload  Upload   Total   Spent    Left  Speed\n",
      "100  955k  100  955k    0     0  2211k      0 --:--:-- --:--:-- --:--:-- 2211k\n"
     ]
    }
   ],
   "source": [
    "%%bash -s \"$dataset_name\" \"ml-latest-small.zip\" \"$url\"\n",
    "\n",
    "orig_filename=\"$(basename -- $2)\"\n",
    "rm -rf \"data/$1\"\n",
    "mkdir -p \"data/$1\"\n",
    "\n",
    "curl -o \"data/$2\" \"$3\"\n",
    "unzip -o -d data \"data/$2\"\n"
   ]
  },
  {
   "cell_type": "markdown",
   "metadata": {},
   "source": [
    "## MovieLens 100k"
   ]
  },
  {
   "cell_type": "code",
   "execution_count": 3,
   "metadata": {},
   "outputs": [],
   "source": [
    "dataset_name = \"ml-100k\"\n",
    "url = \"http://files.grouplens.org/datasets/movielens/ml-100k.zip\"\n",
    "interaction_filename = \"interactions.csv\""
   ]
  },
  {
   "cell_type": "code",
   "execution_count": 4,
   "metadata": {},
   "outputs": [
    {
     "name": "stdout",
     "output_type": "stream",
     "text": [
      "Archive:  data/ml-100k.zip\n",
      "  inflating: data/ml-100k/allbut.pl  \n",
      "  inflating: data/ml-100k/mku.sh     \n",
      "  inflating: data/ml-100k/README     \n",
      "  inflating: data/ml-100k/u.data     \n",
      "  inflating: data/ml-100k/u.genre    \n",
      "  inflating: data/ml-100k/u.info     \n",
      "  inflating: data/ml-100k/u.item     \n",
      "  inflating: data/ml-100k/u.occupation  \n",
      "  inflating: data/ml-100k/u.user     \n",
      "  inflating: data/ml-100k/u1.base    \n",
      "  inflating: data/ml-100k/u1.test    \n",
      "  inflating: data/ml-100k/u2.base    \n",
      "  inflating: data/ml-100k/u2.test    \n",
      "  inflating: data/ml-100k/u3.base    \n",
      "  inflating: data/ml-100k/u3.test    \n",
      "  inflating: data/ml-100k/u4.base    \n",
      "  inflating: data/ml-100k/u4.test    \n",
      "  inflating: data/ml-100k/u5.base    \n",
      "  inflating: data/ml-100k/u5.test    \n",
      "  inflating: data/ml-100k/ua.base    \n",
      "  inflating: data/ml-100k/ua.test    \n",
      "  inflating: data/ml-100k/ub.base    \n",
      "  inflating: data/ml-100k/ub.test    \n"
     ]
    },
    {
     "name": "stderr",
     "output_type": "stream",
     "text": [
      "  % Total    % Received % Xferd  Average Speed   Time    Time     Time  Current\n",
      "                                 Dload  Upload   Total   Spent    Left  Speed\n",
      "100 4808k  100 4808k    0     0  10.2M      0 --:--:-- --:--:-- --:--:-- 10.2M\n"
     ]
    }
   ],
   "source": [
    "%%bash -s \"$dataset_name\" \"ml-100k.zip\" \"$url\"\n",
    "\n",
    "orig_filename=\"$(basename -- $2)\"\n",
    "rm -rf \"data/$1\"\n",
    "mkdir -p \"data/$1\"\n",
    "\n",
    "curl -o \"data/$2\" \"$3\"\n",
    "unzip -o -d data \"data/$2\""
   ]
  },
  {
   "cell_type": "markdown",
   "metadata": {},
   "source": [
    "## Ratings from over 2M Amazon customers on over 160K digital videos"
   ]
  },
  {
   "cell_type": "code",
   "execution_count": 5,
   "metadata": {},
   "outputs": [],
   "source": [
    "dataset_name = \"amz-review\"\n",
    "url = \"s3://amazon-reviews-pds/tsv/amazon_reviews_us_Digital_Video_Download_v1_00.tsv.gz\"\n",
    "interaction_filename = \"interactions.tsv.gz\""
   ]
  },
  {
   "cell_type": "code",
   "execution_count": 6,
   "metadata": {},
   "outputs": [
    {
     "name": "stdout",
     "output_type": "stream",
     "text": [
      "download: s3://amazon-reviews-pds/tsv/amazon_reviews_us_Digital_Video_Download_v1_00.tsv.gz to data/amz-review/amazon_reviews_us_Digital_Video_Download_v1_00.tsv.gz\n"
     ]
    }
   ],
   "source": [
    "%%bash -s \"$dataset_name\" \"$url\" \"$interaction_filename\"\n",
    "\n",
    "orig_filename=\"$(basename -- $2)\"\n",
    "rm -rf \"data/$1\"\n",
    "mkdir -p \"data/$1\"\n",
    "\n",
    "aws s3 cp \"$2\" \"data/$1/$orig_filename\"\n",
    "#gunzip -f -c \"data/$1/$2\" > \"data/$1/amz_review.tsv\"\n",
    "\n",
    "mv \"data/$1/$orig_filename\" \"data/$1/$3\"\n"
   ]
  },
  {
   "cell_type": "markdown",
   "metadata": {},
   "source": [
    "## Jester"
   ]
  },
  {
   "cell_type": "code",
   "execution_count": 7,
   "metadata": {},
   "outputs": [],
   "source": [
    "dataset_name = \"jester_ds4\"\n",
    "url = \"http://eigentaste.berkeley.edu/dataset/JesterDataset4.zip\"\n",
    "uncompressed_filename = \"[final] April 2015 to Nov 30 2019 - Transformed Jester Data - .xlsx\"\n",
    "interaction_filename = \"interactions.xlsx\""
   ]
  },
  {
   "cell_type": "code",
   "execution_count": 8,
   "metadata": {},
   "outputs": [
    {
     "name": "stdout",
     "output_type": "stream",
     "text": [
      "Archive:  data/JesterDataset4.zip\n",
      "  inflating: data/jester_ds4/[final] April 2015 to Nov 30 2019 - Transformed Jester Data - .xlsx  \n",
      "   creating: data/jester_ds4/__MACOSX/\n",
      "  inflating: data/jester_ds4/__MACOSX/._[final] April 2015 to Nov 30 2019 - Transformed Jester Data - .xlsx  \n"
     ]
    },
    {
     "name": "stderr",
     "output_type": "stream",
     "text": [
      "  % Total    % Received % Xferd  Average Speed   Time    Time     Time  Current\n",
      "                                 Dload  Upload   Total   Spent    Left  Speed\n",
      "100 1346k  100 1346k    0     0  1482k      0 --:--:-- --:--:-- --:--:-- 1480k\n"
     ]
    }
   ],
   "source": [
    "%%bash -s \"$dataset_name\" \"$url\" \"$uncompressed_filename\" \"$interaction_filename\"\n",
    "\n",
    "orig_filename=\"$(basename -- $2)\"\n",
    "rm -rf \"data/$1\"\n",
    "mkdir -p \"data/$1\"\n",
    "\n",
    "curl -o \"data/$orig_filename\" \"$2\"\n",
    "unzip -o -d \"data/$1\" \"data/$orig_filename\"\n",
    "\n",
    "mv \"data/$1/$3\" \"data/$1/$4\""
   ]
  },
  {
   "cell_type": "code",
   "execution_count": null,
   "metadata": {},
   "outputs": [],
   "source": []
  }
 ],
 "metadata": {
  "kernelspec": {
   "display_name": "conda_python3",
   "language": "python",
   "name": "conda_python3"
  },
  "language_info": {
   "codemirror_mode": {
    "name": "ipython",
    "version": 3
   },
   "file_extension": ".py",
   "mimetype": "text/x-python",
   "name": "python",
   "nbconvert_exporter": "python",
   "pygments_lexer": "ipython3",
   "version": "3.6.10"
  }
 },
 "nbformat": 4,
 "nbformat_minor": 4
}
